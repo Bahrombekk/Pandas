{
  "nbformat": 4,
  "nbformat_minor": 0,
  "metadata": {
    "colab": {
      "provenance": [],
      "include_colab_link": true
    },
    "kernelspec": {
      "name": "python3",
      "display_name": "Python 3"
    },
    "language_info": {
      "name": "python"
    }
  },
  "cells": [
    {
      "cell_type": "markdown",
      "metadata": {
        "id": "view-in-github",
        "colab_type": "text"
      },
      "source": [
        "<a href=\"https://colab.research.google.com/github/Bahrombekk/Pandas/blob/main/%D0%9A%D0%BE%D0%BF%D0%B8%D1%8F_%D0%B1%D0%BB%D0%BE%D0%BA%D0%BD%D0%BE%D1%82%D0%B0_%22Copy_of_grocery_store_ipynb%22.ipynb\" target=\"_parent\"><img src=\"https://colab.research.google.com/assets/colab-badge.svg\" alt=\"Open In Colab\"/></a>"
      ]
    },
    {
      "cell_type": "code",
      "execution_count": 28,
      "metadata": {
        "colab": {
          "base_uri": "https://localhost:8080/"
        },
        "id": "C151BEPeukEK",
        "outputId": "a73f83ec-3213-442b-9031-396253b18005"
      },
      "outputs": [
        {
          "output_type": "stream",
          "name": "stdout",
          "text": [
            "--2023-04-13 05:13:48--  https://raw.githubusercontent.com/codeschoolAI/grocery_store/main/products_row.csv\n",
            "Resolving raw.githubusercontent.com (raw.githubusercontent.com)... 185.199.110.133, 185.199.109.133, 185.199.111.133, ...\n",
            "Connecting to raw.githubusercontent.com (raw.githubusercontent.com)|185.199.110.133|:443... connected.\n",
            "HTTP request sent, awaiting response... 200 OK\n",
            "Length: 1061 (1.0K) [text/plain]\n",
            "Saving to: ‘products_row.csv.1’\n",
            "\n",
            "\rproducts_row.csv.1    0%[                    ]       0  --.-KB/s               \rproducts_row.csv.1  100%[===================>]   1.04K  --.-KB/s    in 0s      \n",
            "\n",
            "2023-04-13 05:13:48 (49.9 MB/s) - ‘products_row.csv.1’ saved [1061/1061]\n",
            "\n"
          ]
        }
      ],
      "source": [
        "!wget https://raw.githubusercontent.com/codeschoolAI/grocery_store/main/products_row.csv"
      ]
    },
    {
      "cell_type": "code",
      "source": [
        "import pandas as pd"
      ],
      "metadata": {
        "id": "Nq7L4eRzyQ6c"
      },
      "execution_count": 29,
      "outputs": []
    },
    {
      "cell_type": "code",
      "source": [
        "f=pd.read_csv('products_row.csv')# read a csv file with Pandas "
      ],
      "metadata": {
        "id": "yLGC5PROyT4T"
      },
      "execution_count": 30,
      "outputs": []
    },
    {
      "cell_type": "code",
      "source": [
        "f"
      ],
      "metadata": {
        "colab": {
          "base_uri": "https://localhost:8080/",
          "height": 1000
        },
        "id": "fp4gx9G_XkVK",
        "outputId": "8e8da61a-58d6-494e-b6ce-90c9977256f4"
      },
      "execution_count": 33,
      "outputs": [
        {
          "output_type": "execute_result",
          "data": {
            "text/plain": [
              "              Name       Type  Price (USD)  Quantity\n",
              "0            Apple      Fruit         0.50        10\n",
              "1           Banana      Fruit         0.25        20\n",
              "2           Orange      Fruit         0.75        15\n",
              "3           Grapes      Fruit         1.50         5\n",
              "4       Watermelon      Fruit         5.00         2\n",
              "5        Pineapple      Fruit         2.00         3\n",
              "6            Mango      Fruit         1.00        10\n",
              "7             Kiwi      Fruit         0.75         8\n",
              "8             Pear      Fruit         0.50        12\n",
              "9       Strawberry      Fruit         2.00         4\n",
              "10      Strawberry      Fruit         2.80         2\n",
              "11       Blueberry      Fruit         3.00         3\n",
              "12       Raspberry      Fruit         2.50         5\n",
              "13      Blackberry      Fruit         2.00         6\n",
              "14          Tomato  Vegetable         1.00        20\n",
              "15          Orange      Fruit         0.55        10\n",
              "16        Cucumber  Vegetable         0.75        15\n",
              "17          Carrot  Vegetable         0.50        25\n",
              "18           Onion  Vegetable         0.25        30\n",
              "19          Garlic  Vegetable         0.10        50\n",
              "20          Potato  Vegetable         0.50        20\n",
              "21    Sweet Potato  Vegetable         1.00        10\n",
              "22        Zucchini  Vegetable         0.75        15\n",
              "23     Bell Pepper  Vegetable         0.75        12\n",
              "24        Broccoli  Vegetable         1.50         8\n",
              "25     Cauliflower  Vegetable         1.75         6\n",
              "26         Spinach  Vegetable         2.00         4\n",
              "27         Lettuce  Vegetable         1.25        10\n",
              "28            Kale  Vegetable         1.50         8\n",
              "29          Cheese      Dairy         4.60         3\n",
              "30       Olive Oil        Oil        10.00         3\n",
              "31      Canola Oil        Oil         8.00         4\n",
              "32     Coconut Oil        Oil        12.00         2\n",
              "33     Avocado Oil        Oil        15.00         1\n",
              "34        Soy Milk      Dairy         3.00         5\n",
              "35     Almond Milk      Dairy         4.00         4\n",
              "36          Yogurt      Dairy         2.00        10\n",
              "37            Milk      Dairy          NaN         8\n",
              "38          Cheese      Dairy         5.00         5\n",
              "39          Butter      Dairy         2.50         8\n",
              "40          Butter      Dairy          NaN         8\n",
              "41       Ice Cream        NaN         3.00         6\n",
              "42    Cream Cheese      Dairy         3.00         6\n",
              "43      Sour Cream      Dairy         1.50        12\n",
              "44  Whipping Cream      Dairy         4.00         4\n",
              "45   Half and Half      Dairy         2.00        10\n",
              "46  Cottage Cheese      Dairy         3.00         6\n",
              "47            Eggs        NaN         1.50        12"
            ],
            "text/html": [
              "\n",
              "  <div id=\"df-6fbb92ff-e121-458e-97b4-dcd02eb5a1b5\">\n",
              "    <div class=\"colab-df-container\">\n",
              "      <div>\n",
              "<style scoped>\n",
              "    .dataframe tbody tr th:only-of-type {\n",
              "        vertical-align: middle;\n",
              "    }\n",
              "\n",
              "    .dataframe tbody tr th {\n",
              "        vertical-align: top;\n",
              "    }\n",
              "\n",
              "    .dataframe thead th {\n",
              "        text-align: right;\n",
              "    }\n",
              "</style>\n",
              "<table border=\"1\" class=\"dataframe\">\n",
              "  <thead>\n",
              "    <tr style=\"text-align: right;\">\n",
              "      <th></th>\n",
              "      <th>Name</th>\n",
              "      <th>Type</th>\n",
              "      <th>Price (USD)</th>\n",
              "      <th>Quantity</th>\n",
              "    </tr>\n",
              "  </thead>\n",
              "  <tbody>\n",
              "    <tr>\n",
              "      <th>0</th>\n",
              "      <td>Apple</td>\n",
              "      <td>Fruit</td>\n",
              "      <td>0.50</td>\n",
              "      <td>10</td>\n",
              "    </tr>\n",
              "    <tr>\n",
              "      <th>1</th>\n",
              "      <td>Banana</td>\n",
              "      <td>Fruit</td>\n",
              "      <td>0.25</td>\n",
              "      <td>20</td>\n",
              "    </tr>\n",
              "    <tr>\n",
              "      <th>2</th>\n",
              "      <td>Orange</td>\n",
              "      <td>Fruit</td>\n",
              "      <td>0.75</td>\n",
              "      <td>15</td>\n",
              "    </tr>\n",
              "    <tr>\n",
              "      <th>3</th>\n",
              "      <td>Grapes</td>\n",
              "      <td>Fruit</td>\n",
              "      <td>1.50</td>\n",
              "      <td>5</td>\n",
              "    </tr>\n",
              "    <tr>\n",
              "      <th>4</th>\n",
              "      <td>Watermelon</td>\n",
              "      <td>Fruit</td>\n",
              "      <td>5.00</td>\n",
              "      <td>2</td>\n",
              "    </tr>\n",
              "    <tr>\n",
              "      <th>5</th>\n",
              "      <td>Pineapple</td>\n",
              "      <td>Fruit</td>\n",
              "      <td>2.00</td>\n",
              "      <td>3</td>\n",
              "    </tr>\n",
              "    <tr>\n",
              "      <th>6</th>\n",
              "      <td>Mango</td>\n",
              "      <td>Fruit</td>\n",
              "      <td>1.00</td>\n",
              "      <td>10</td>\n",
              "    </tr>\n",
              "    <tr>\n",
              "      <th>7</th>\n",
              "      <td>Kiwi</td>\n",
              "      <td>Fruit</td>\n",
              "      <td>0.75</td>\n",
              "      <td>8</td>\n",
              "    </tr>\n",
              "    <tr>\n",
              "      <th>8</th>\n",
              "      <td>Pear</td>\n",
              "      <td>Fruit</td>\n",
              "      <td>0.50</td>\n",
              "      <td>12</td>\n",
              "    </tr>\n",
              "    <tr>\n",
              "      <th>9</th>\n",
              "      <td>Strawberry</td>\n",
              "      <td>Fruit</td>\n",
              "      <td>2.00</td>\n",
              "      <td>4</td>\n",
              "    </tr>\n",
              "    <tr>\n",
              "      <th>10</th>\n",
              "      <td>Strawberry</td>\n",
              "      <td>Fruit</td>\n",
              "      <td>2.80</td>\n",
              "      <td>2</td>\n",
              "    </tr>\n",
              "    <tr>\n",
              "      <th>11</th>\n",
              "      <td>Blueberry</td>\n",
              "      <td>Fruit</td>\n",
              "      <td>3.00</td>\n",
              "      <td>3</td>\n",
              "    </tr>\n",
              "    <tr>\n",
              "      <th>12</th>\n",
              "      <td>Raspberry</td>\n",
              "      <td>Fruit</td>\n",
              "      <td>2.50</td>\n",
              "      <td>5</td>\n",
              "    </tr>\n",
              "    <tr>\n",
              "      <th>13</th>\n",
              "      <td>Blackberry</td>\n",
              "      <td>Fruit</td>\n",
              "      <td>2.00</td>\n",
              "      <td>6</td>\n",
              "    </tr>\n",
              "    <tr>\n",
              "      <th>14</th>\n",
              "      <td>Tomato</td>\n",
              "      <td>Vegetable</td>\n",
              "      <td>1.00</td>\n",
              "      <td>20</td>\n",
              "    </tr>\n",
              "    <tr>\n",
              "      <th>15</th>\n",
              "      <td>Orange</td>\n",
              "      <td>Fruit</td>\n",
              "      <td>0.55</td>\n",
              "      <td>10</td>\n",
              "    </tr>\n",
              "    <tr>\n",
              "      <th>16</th>\n",
              "      <td>Cucumber</td>\n",
              "      <td>Vegetable</td>\n",
              "      <td>0.75</td>\n",
              "      <td>15</td>\n",
              "    </tr>\n",
              "    <tr>\n",
              "      <th>17</th>\n",
              "      <td>Carrot</td>\n",
              "      <td>Vegetable</td>\n",
              "      <td>0.50</td>\n",
              "      <td>25</td>\n",
              "    </tr>\n",
              "    <tr>\n",
              "      <th>18</th>\n",
              "      <td>Onion</td>\n",
              "      <td>Vegetable</td>\n",
              "      <td>0.25</td>\n",
              "      <td>30</td>\n",
              "    </tr>\n",
              "    <tr>\n",
              "      <th>19</th>\n",
              "      <td>Garlic</td>\n",
              "      <td>Vegetable</td>\n",
              "      <td>0.10</td>\n",
              "      <td>50</td>\n",
              "    </tr>\n",
              "    <tr>\n",
              "      <th>20</th>\n",
              "      <td>Potato</td>\n",
              "      <td>Vegetable</td>\n",
              "      <td>0.50</td>\n",
              "      <td>20</td>\n",
              "    </tr>\n",
              "    <tr>\n",
              "      <th>21</th>\n",
              "      <td>Sweet Potato</td>\n",
              "      <td>Vegetable</td>\n",
              "      <td>1.00</td>\n",
              "      <td>10</td>\n",
              "    </tr>\n",
              "    <tr>\n",
              "      <th>22</th>\n",
              "      <td>Zucchini</td>\n",
              "      <td>Vegetable</td>\n",
              "      <td>0.75</td>\n",
              "      <td>15</td>\n",
              "    </tr>\n",
              "    <tr>\n",
              "      <th>23</th>\n",
              "      <td>Bell Pepper</td>\n",
              "      <td>Vegetable</td>\n",
              "      <td>0.75</td>\n",
              "      <td>12</td>\n",
              "    </tr>\n",
              "    <tr>\n",
              "      <th>24</th>\n",
              "      <td>Broccoli</td>\n",
              "      <td>Vegetable</td>\n",
              "      <td>1.50</td>\n",
              "      <td>8</td>\n",
              "    </tr>\n",
              "    <tr>\n",
              "      <th>25</th>\n",
              "      <td>Cauliflower</td>\n",
              "      <td>Vegetable</td>\n",
              "      <td>1.75</td>\n",
              "      <td>6</td>\n",
              "    </tr>\n",
              "    <tr>\n",
              "      <th>26</th>\n",
              "      <td>Spinach</td>\n",
              "      <td>Vegetable</td>\n",
              "      <td>2.00</td>\n",
              "      <td>4</td>\n",
              "    </tr>\n",
              "    <tr>\n",
              "      <th>27</th>\n",
              "      <td>Lettuce</td>\n",
              "      <td>Vegetable</td>\n",
              "      <td>1.25</td>\n",
              "      <td>10</td>\n",
              "    </tr>\n",
              "    <tr>\n",
              "      <th>28</th>\n",
              "      <td>Kale</td>\n",
              "      <td>Vegetable</td>\n",
              "      <td>1.50</td>\n",
              "      <td>8</td>\n",
              "    </tr>\n",
              "    <tr>\n",
              "      <th>29</th>\n",
              "      <td>Cheese</td>\n",
              "      <td>Dairy</td>\n",
              "      <td>4.60</td>\n",
              "      <td>3</td>\n",
              "    </tr>\n",
              "    <tr>\n",
              "      <th>30</th>\n",
              "      <td>Olive Oil</td>\n",
              "      <td>Oil</td>\n",
              "      <td>10.00</td>\n",
              "      <td>3</td>\n",
              "    </tr>\n",
              "    <tr>\n",
              "      <th>31</th>\n",
              "      <td>Canola Oil</td>\n",
              "      <td>Oil</td>\n",
              "      <td>8.00</td>\n",
              "      <td>4</td>\n",
              "    </tr>\n",
              "    <tr>\n",
              "      <th>32</th>\n",
              "      <td>Coconut Oil</td>\n",
              "      <td>Oil</td>\n",
              "      <td>12.00</td>\n",
              "      <td>2</td>\n",
              "    </tr>\n",
              "    <tr>\n",
              "      <th>33</th>\n",
              "      <td>Avocado Oil</td>\n",
              "      <td>Oil</td>\n",
              "      <td>15.00</td>\n",
              "      <td>1</td>\n",
              "    </tr>\n",
              "    <tr>\n",
              "      <th>34</th>\n",
              "      <td>Soy Milk</td>\n",
              "      <td>Dairy</td>\n",
              "      <td>3.00</td>\n",
              "      <td>5</td>\n",
              "    </tr>\n",
              "    <tr>\n",
              "      <th>35</th>\n",
              "      <td>Almond Milk</td>\n",
              "      <td>Dairy</td>\n",
              "      <td>4.00</td>\n",
              "      <td>4</td>\n",
              "    </tr>\n",
              "    <tr>\n",
              "      <th>36</th>\n",
              "      <td>Yogurt</td>\n",
              "      <td>Dairy</td>\n",
              "      <td>2.00</td>\n",
              "      <td>10</td>\n",
              "    </tr>\n",
              "    <tr>\n",
              "      <th>37</th>\n",
              "      <td>Milk</td>\n",
              "      <td>Dairy</td>\n",
              "      <td>NaN</td>\n",
              "      <td>8</td>\n",
              "    </tr>\n",
              "    <tr>\n",
              "      <th>38</th>\n",
              "      <td>Cheese</td>\n",
              "      <td>Dairy</td>\n",
              "      <td>5.00</td>\n",
              "      <td>5</td>\n",
              "    </tr>\n",
              "    <tr>\n",
              "      <th>39</th>\n",
              "      <td>Butter</td>\n",
              "      <td>Dairy</td>\n",
              "      <td>2.50</td>\n",
              "      <td>8</td>\n",
              "    </tr>\n",
              "    <tr>\n",
              "      <th>40</th>\n",
              "      <td>Butter</td>\n",
              "      <td>Dairy</td>\n",
              "      <td>NaN</td>\n",
              "      <td>8</td>\n",
              "    </tr>\n",
              "    <tr>\n",
              "      <th>41</th>\n",
              "      <td>Ice Cream</td>\n",
              "      <td>NaN</td>\n",
              "      <td>3.00</td>\n",
              "      <td>6</td>\n",
              "    </tr>\n",
              "    <tr>\n",
              "      <th>42</th>\n",
              "      <td>Cream Cheese</td>\n",
              "      <td>Dairy</td>\n",
              "      <td>3.00</td>\n",
              "      <td>6</td>\n",
              "    </tr>\n",
              "    <tr>\n",
              "      <th>43</th>\n",
              "      <td>Sour Cream</td>\n",
              "      <td>Dairy</td>\n",
              "      <td>1.50</td>\n",
              "      <td>12</td>\n",
              "    </tr>\n",
              "    <tr>\n",
              "      <th>44</th>\n",
              "      <td>Whipping Cream</td>\n",
              "      <td>Dairy</td>\n",
              "      <td>4.00</td>\n",
              "      <td>4</td>\n",
              "    </tr>\n",
              "    <tr>\n",
              "      <th>45</th>\n",
              "      <td>Half and Half</td>\n",
              "      <td>Dairy</td>\n",
              "      <td>2.00</td>\n",
              "      <td>10</td>\n",
              "    </tr>\n",
              "    <tr>\n",
              "      <th>46</th>\n",
              "      <td>Cottage Cheese</td>\n",
              "      <td>Dairy</td>\n",
              "      <td>3.00</td>\n",
              "      <td>6</td>\n",
              "    </tr>\n",
              "    <tr>\n",
              "      <th>47</th>\n",
              "      <td>Eggs</td>\n",
              "      <td>NaN</td>\n",
              "      <td>1.50</td>\n",
              "      <td>12</td>\n",
              "    </tr>\n",
              "  </tbody>\n",
              "</table>\n",
              "</div>\n",
              "      <button class=\"colab-df-convert\" onclick=\"convertToInteractive('df-6fbb92ff-e121-458e-97b4-dcd02eb5a1b5')\"\n",
              "              title=\"Convert this dataframe to an interactive table.\"\n",
              "              style=\"display:none;\">\n",
              "        \n",
              "  <svg xmlns=\"http://www.w3.org/2000/svg\" height=\"24px\"viewBox=\"0 0 24 24\"\n",
              "       width=\"24px\">\n",
              "    <path d=\"M0 0h24v24H0V0z\" fill=\"none\"/>\n",
              "    <path d=\"M18.56 5.44l.94 2.06.94-2.06 2.06-.94-2.06-.94-.94-2.06-.94 2.06-2.06.94zm-11 1L8.5 8.5l.94-2.06 2.06-.94-2.06-.94L8.5 2.5l-.94 2.06-2.06.94zm10 10l.94 2.06.94-2.06 2.06-.94-2.06-.94-.94-2.06-.94 2.06-2.06.94z\"/><path d=\"M17.41 7.96l-1.37-1.37c-.4-.4-.92-.59-1.43-.59-.52 0-1.04.2-1.43.59L10.3 9.45l-7.72 7.72c-.78.78-.78 2.05 0 2.83L4 21.41c.39.39.9.59 1.41.59.51 0 1.02-.2 1.41-.59l7.78-7.78 2.81-2.81c.8-.78.8-2.07 0-2.86zM5.41 20L4 18.59l7.72-7.72 1.47 1.35L5.41 20z\"/>\n",
              "  </svg>\n",
              "      </button>\n",
              "      \n",
              "  <style>\n",
              "    .colab-df-container {\n",
              "      display:flex;\n",
              "      flex-wrap:wrap;\n",
              "      gap: 12px;\n",
              "    }\n",
              "\n",
              "    .colab-df-convert {\n",
              "      background-color: #E8F0FE;\n",
              "      border: none;\n",
              "      border-radius: 50%;\n",
              "      cursor: pointer;\n",
              "      display: none;\n",
              "      fill: #1967D2;\n",
              "      height: 32px;\n",
              "      padding: 0 0 0 0;\n",
              "      width: 32px;\n",
              "    }\n",
              "\n",
              "    .colab-df-convert:hover {\n",
              "      background-color: #E2EBFA;\n",
              "      box-shadow: 0px 1px 2px rgba(60, 64, 67, 0.3), 0px 1px 3px 1px rgba(60, 64, 67, 0.15);\n",
              "      fill: #174EA6;\n",
              "    }\n",
              "\n",
              "    [theme=dark] .colab-df-convert {\n",
              "      background-color: #3B4455;\n",
              "      fill: #D2E3FC;\n",
              "    }\n",
              "\n",
              "    [theme=dark] .colab-df-convert:hover {\n",
              "      background-color: #434B5C;\n",
              "      box-shadow: 0px 1px 3px 1px rgba(0, 0, 0, 0.15);\n",
              "      filter: drop-shadow(0px 1px 2px rgba(0, 0, 0, 0.3));\n",
              "      fill: #FFFFFF;\n",
              "    }\n",
              "  </style>\n",
              "\n",
              "      <script>\n",
              "        const buttonEl =\n",
              "          document.querySelector('#df-6fbb92ff-e121-458e-97b4-dcd02eb5a1b5 button.colab-df-convert');\n",
              "        buttonEl.style.display =\n",
              "          google.colab.kernel.accessAllowed ? 'block' : 'none';\n",
              "\n",
              "        async function convertToInteractive(key) {\n",
              "          const element = document.querySelector('#df-6fbb92ff-e121-458e-97b4-dcd02eb5a1b5');\n",
              "          const dataTable =\n",
              "            await google.colab.kernel.invokeFunction('convertToInteractive',\n",
              "                                                     [key], {});\n",
              "          if (!dataTable) return;\n",
              "\n",
              "          const docLinkHtml = 'Like what you see? Visit the ' +\n",
              "            '<a target=\"_blank\" href=https://colab.research.google.com/notebooks/data_table.ipynb>data table notebook</a>'\n",
              "            + ' to learn more about interactive tables.';\n",
              "          element.innerHTML = '';\n",
              "          dataTable['output_type'] = 'display_data';\n",
              "          await google.colab.output.renderOutput(dataTable, element);\n",
              "          const docLink = document.createElement('div');\n",
              "          docLink.innerHTML = docLinkHtml;\n",
              "          element.appendChild(docLink);\n",
              "        }\n",
              "      </script>\n",
              "    </div>\n",
              "  </div>\n",
              "  "
            ]
          },
          "metadata": {},
          "execution_count": 33
        }
      ]
    },
    {
      "cell_type": "code",
      "source": [
        "f.head(10)"
      ],
      "metadata": {
        "colab": {
          "base_uri": "https://localhost:8080/",
          "height": 363
        },
        "id": "hRTkpSby50dh",
        "outputId": "2ffd3ecf-07a6-45b8-fe82-5a868ef3d86a"
      },
      "execution_count": 32,
      "outputs": [
        {
          "output_type": "execute_result",
          "data": {
            "text/plain": [
              "         Name   Type  Price (USD)  Quantity\n",
              "0       Apple  Fruit         0.50        10\n",
              "1      Banana  Fruit         0.25        20\n",
              "2      Orange  Fruit         0.75        15\n",
              "3      Grapes  Fruit         1.50         5\n",
              "4  Watermelon  Fruit         5.00         2\n",
              "5   Pineapple  Fruit         2.00         3\n",
              "6       Mango  Fruit         1.00        10\n",
              "7        Kiwi  Fruit         0.75         8\n",
              "8        Pear  Fruit         0.50        12\n",
              "9  Strawberry  Fruit         2.00         4"
            ],
            "text/html": [
              "\n",
              "  <div id=\"df-257f7233-22a5-4209-8c58-a7750f28387a\">\n",
              "    <div class=\"colab-df-container\">\n",
              "      <div>\n",
              "<style scoped>\n",
              "    .dataframe tbody tr th:only-of-type {\n",
              "        vertical-align: middle;\n",
              "    }\n",
              "\n",
              "    .dataframe tbody tr th {\n",
              "        vertical-align: top;\n",
              "    }\n",
              "\n",
              "    .dataframe thead th {\n",
              "        text-align: right;\n",
              "    }\n",
              "</style>\n",
              "<table border=\"1\" class=\"dataframe\">\n",
              "  <thead>\n",
              "    <tr style=\"text-align: right;\">\n",
              "      <th></th>\n",
              "      <th>Name</th>\n",
              "      <th>Type</th>\n",
              "      <th>Price (USD)</th>\n",
              "      <th>Quantity</th>\n",
              "    </tr>\n",
              "  </thead>\n",
              "  <tbody>\n",
              "    <tr>\n",
              "      <th>0</th>\n",
              "      <td>Apple</td>\n",
              "      <td>Fruit</td>\n",
              "      <td>0.50</td>\n",
              "      <td>10</td>\n",
              "    </tr>\n",
              "    <tr>\n",
              "      <th>1</th>\n",
              "      <td>Banana</td>\n",
              "      <td>Fruit</td>\n",
              "      <td>0.25</td>\n",
              "      <td>20</td>\n",
              "    </tr>\n",
              "    <tr>\n",
              "      <th>2</th>\n",
              "      <td>Orange</td>\n",
              "      <td>Fruit</td>\n",
              "      <td>0.75</td>\n",
              "      <td>15</td>\n",
              "    </tr>\n",
              "    <tr>\n",
              "      <th>3</th>\n",
              "      <td>Grapes</td>\n",
              "      <td>Fruit</td>\n",
              "      <td>1.50</td>\n",
              "      <td>5</td>\n",
              "    </tr>\n",
              "    <tr>\n",
              "      <th>4</th>\n",
              "      <td>Watermelon</td>\n",
              "      <td>Fruit</td>\n",
              "      <td>5.00</td>\n",
              "      <td>2</td>\n",
              "    </tr>\n",
              "    <tr>\n",
              "      <th>5</th>\n",
              "      <td>Pineapple</td>\n",
              "      <td>Fruit</td>\n",
              "      <td>2.00</td>\n",
              "      <td>3</td>\n",
              "    </tr>\n",
              "    <tr>\n",
              "      <th>6</th>\n",
              "      <td>Mango</td>\n",
              "      <td>Fruit</td>\n",
              "      <td>1.00</td>\n",
              "      <td>10</td>\n",
              "    </tr>\n",
              "    <tr>\n",
              "      <th>7</th>\n",
              "      <td>Kiwi</td>\n",
              "      <td>Fruit</td>\n",
              "      <td>0.75</td>\n",
              "      <td>8</td>\n",
              "    </tr>\n",
              "    <tr>\n",
              "      <th>8</th>\n",
              "      <td>Pear</td>\n",
              "      <td>Fruit</td>\n",
              "      <td>0.50</td>\n",
              "      <td>12</td>\n",
              "    </tr>\n",
              "    <tr>\n",
              "      <th>9</th>\n",
              "      <td>Strawberry</td>\n",
              "      <td>Fruit</td>\n",
              "      <td>2.00</td>\n",
              "      <td>4</td>\n",
              "    </tr>\n",
              "  </tbody>\n",
              "</table>\n",
              "</div>\n",
              "      <button class=\"colab-df-convert\" onclick=\"convertToInteractive('df-257f7233-22a5-4209-8c58-a7750f28387a')\"\n",
              "              title=\"Convert this dataframe to an interactive table.\"\n",
              "              style=\"display:none;\">\n",
              "        \n",
              "  <svg xmlns=\"http://www.w3.org/2000/svg\" height=\"24px\"viewBox=\"0 0 24 24\"\n",
              "       width=\"24px\">\n",
              "    <path d=\"M0 0h24v24H0V0z\" fill=\"none\"/>\n",
              "    <path d=\"M18.56 5.44l.94 2.06.94-2.06 2.06-.94-2.06-.94-.94-2.06-.94 2.06-2.06.94zm-11 1L8.5 8.5l.94-2.06 2.06-.94-2.06-.94L8.5 2.5l-.94 2.06-2.06.94zm10 10l.94 2.06.94-2.06 2.06-.94-2.06-.94-.94-2.06-.94 2.06-2.06.94z\"/><path d=\"M17.41 7.96l-1.37-1.37c-.4-.4-.92-.59-1.43-.59-.52 0-1.04.2-1.43.59L10.3 9.45l-7.72 7.72c-.78.78-.78 2.05 0 2.83L4 21.41c.39.39.9.59 1.41.59.51 0 1.02-.2 1.41-.59l7.78-7.78 2.81-2.81c.8-.78.8-2.07 0-2.86zM5.41 20L4 18.59l7.72-7.72 1.47 1.35L5.41 20z\"/>\n",
              "  </svg>\n",
              "      </button>\n",
              "      \n",
              "  <style>\n",
              "    .colab-df-container {\n",
              "      display:flex;\n",
              "      flex-wrap:wrap;\n",
              "      gap: 12px;\n",
              "    }\n",
              "\n",
              "    .colab-df-convert {\n",
              "      background-color: #E8F0FE;\n",
              "      border: none;\n",
              "      border-radius: 50%;\n",
              "      cursor: pointer;\n",
              "      display: none;\n",
              "      fill: #1967D2;\n",
              "      height: 32px;\n",
              "      padding: 0 0 0 0;\n",
              "      width: 32px;\n",
              "    }\n",
              "\n",
              "    .colab-df-convert:hover {\n",
              "      background-color: #E2EBFA;\n",
              "      box-shadow: 0px 1px 2px rgba(60, 64, 67, 0.3), 0px 1px 3px 1px rgba(60, 64, 67, 0.15);\n",
              "      fill: #174EA6;\n",
              "    }\n",
              "\n",
              "    [theme=dark] .colab-df-convert {\n",
              "      background-color: #3B4455;\n",
              "      fill: #D2E3FC;\n",
              "    }\n",
              "\n",
              "    [theme=dark] .colab-df-convert:hover {\n",
              "      background-color: #434B5C;\n",
              "      box-shadow: 0px 1px 3px 1px rgba(0, 0, 0, 0.15);\n",
              "      filter: drop-shadow(0px 1px 2px rgba(0, 0, 0, 0.3));\n",
              "      fill: #FFFFFF;\n",
              "    }\n",
              "  </style>\n",
              "\n",
              "      <script>\n",
              "        const buttonEl =\n",
              "          document.querySelector('#df-257f7233-22a5-4209-8c58-a7750f28387a button.colab-df-convert');\n",
              "        buttonEl.style.display =\n",
              "          google.colab.kernel.accessAllowed ? 'block' : 'none';\n",
              "\n",
              "        async function convertToInteractive(key) {\n",
              "          const element = document.querySelector('#df-257f7233-22a5-4209-8c58-a7750f28387a');\n",
              "          const dataTable =\n",
              "            await google.colab.kernel.invokeFunction('convertToInteractive',\n",
              "                                                     [key], {});\n",
              "          if (!dataTable) return;\n",
              "\n",
              "          const docLinkHtml = 'Like what you see? Visit the ' +\n",
              "            '<a target=\"_blank\" href=https://colab.research.google.com/notebooks/data_table.ipynb>data table notebook</a>'\n",
              "            + ' to learn more about interactive tables.';\n",
              "          element.innerHTML = '';\n",
              "          dataTable['output_type'] = 'display_data';\n",
              "          await google.colab.output.renderOutput(dataTable, element);\n",
              "          const docLink = document.createElement('div');\n",
              "          docLink.innerHTML = docLinkHtml;\n",
              "          element.appendChild(docLink);\n",
              "        }\n",
              "      </script>\n",
              "    </div>\n",
              "  </div>\n",
              "  "
            ]
          },
          "metadata": {},
          "execution_count": 32
        }
      ]
    },
    {
      "cell_type": "code",
      "source": [
        "def get_average_price(f):\n",
        "  \"\"\"\n",
        "  What is the average price of all items in the dataset\n",
        "\n",
        "  Args:\n",
        "    df:DataFrame\n",
        "  \"\"\"\n",
        "  a=f['Price (USD)']\n",
        "  return pd.Series.mean(a)\n",
        "  "
      ],
      "metadata": {
        "id": "IZiFgJTu3XYc"
      },
      "execution_count": 41,
      "outputs": []
    },
    {
      "cell_type": "code",
      "source": [
        "get_average_price(f)"
      ],
      "metadata": {
        "colab": {
          "base_uri": "https://localhost:8080/"
        },
        "id": "nrpaxPr26KCh",
        "outputId": "7a0e293a-b8f7-4885-ec04-37e53f42259b"
      },
      "execution_count": 42,
      "outputs": [
        {
          "output_type": "execute_result",
          "data": {
            "text/plain": [
              "2.6695652173913045"
            ]
          },
          "metadata": {},
          "execution_count": 42
        }
      ]
    },
    {
      "cell_type": "code",
      "source": [
        "def get_expensive_price(f):\n",
        "  \"\"\"\n",
        "  What is the most expensive item in the dataret\n",
        "\n",
        "  Args:\n",
        "    df:DataFrame\n",
        "  \"\"\"\n",
        "  a=f['Price (USD)']\n",
        "  return pd.Series.max(a)\n"
      ],
      "metadata": {
        "id": "9ISKGrx53eQP"
      },
      "execution_count": 45,
      "outputs": []
    },
    {
      "cell_type": "code",
      "source": [
        "print(get_expensive_price(f))"
      ],
      "metadata": {
        "colab": {
          "base_uri": "https://localhost:8080/"
        },
        "id": "bwQ65hoF6Veo",
        "outputId": "3c2b4a9c-8ad2-4c3a-cbd7-cfe7b3cb75c8"
      },
      "execution_count": 46,
      "outputs": [
        {
          "output_type": "stream",
          "name": "stdout",
          "text": [
            "15.0\n"
          ]
        }
      ]
    },
    {
      "cell_type": "code",
      "source": [
        "def get_cheap_price(f):\n",
        "  \"\"\"\n",
        "  What is the least expensive item in the dataset\n",
        "\n",
        "  Args:\n",
        "    df:DataFrame\n",
        "  \"\"\"\n",
        "  a=f['Price (USD)']\n",
        "  return pd.Series.min(a)"
      ],
      "metadata": {
        "id": "lcr4OEKS3qSL"
      },
      "execution_count": 48,
      "outputs": []
    },
    {
      "cell_type": "code",
      "source": [
        "get_cheap_price(f)"
      ],
      "metadata": {
        "colab": {
          "base_uri": "https://localhost:8080/"
        },
        "id": "YbLW7e9z6dkS",
        "outputId": "c54f8583-fcb1-496c-fc89-b8636b29bb28"
      },
      "execution_count": 49,
      "outputs": [
        {
          "output_type": "execute_result",
          "data": {
            "text/plain": [
              "0.1"
            ]
          },
          "metadata": {},
          "execution_count": 49
        }
      ]
    },
    {
      "cell_type": "code",
      "source": [
        "def number_of_fruits(f):\n",
        "  \"\"\"\n",
        "  How many fruit items are in the dataset\n",
        "\n",
        "  Args:\n",
        "    df:DataFrame\n",
        "  \"\"\"\n",
        "  l=[]\n",
        "  a=f['Type']\n",
        "  for i in a:\n",
        "    if i=='Fruit':\n",
        "      l.append(i)\n",
        "  return len(l)\n"
      ],
      "metadata": {
        "id": "8DOiIE8V3-zK"
      },
      "execution_count": 66,
      "outputs": []
    },
    {
      "cell_type": "code",
      "source": [
        "number_of_fruits(f)"
      ],
      "metadata": {
        "colab": {
          "base_uri": "https://localhost:8080/"
        },
        "id": "jLx7tDw77HDW",
        "outputId": "e4748d9a-ccc0-4f1d-f4e9-d22c913577ac"
      },
      "execution_count": 67,
      "outputs": [
        {
          "output_type": "execute_result",
          "data": {
            "text/plain": [
              "15"
            ]
          },
          "metadata": {},
          "execution_count": 67
        }
      ]
    },
    {
      "cell_type": "code",
      "source": [
        "def number_of_veg(f):\n",
        "  \"\"\"\n",
        "  How many vegetable items are in the dataset\n",
        "\n",
        "  Args:\n",
        "    df:DataFrame\n",
        "  \"\"\"\n",
        "  l=[]\n",
        "  a=f['Type']\n",
        "  for i in a:\n",
        "    if i=='Vegetable':\n",
        "      l.append(i)\n",
        "  return len(l)"
      ],
      "metadata": {
        "id": "tBdX0SZf4Yir"
      },
      "execution_count": 75,
      "outputs": []
    },
    {
      "cell_type": "code",
      "source": [
        "number_of_veg(f)"
      ],
      "metadata": {
        "colab": {
          "base_uri": "https://localhost:8080/"
        },
        "id": "6PJwmHcV7X2H",
        "outputId": "1267322f-1067-4265-edfe-48acaecef638"
      },
      "execution_count": 78,
      "outputs": [
        {
          "output_type": "execute_result",
          "data": {
            "text/plain": [
              "14"
            ]
          },
          "metadata": {},
          "execution_count": 78
        }
      ]
    },
    {
      "cell_type": "code",
      "source": [
        "def minimum_of_veg(f):\n",
        "  \"\"\"\n",
        "  Get the minimum item cost of vegetable items in the dataset\n",
        "\n",
        "  Args:\n",
        "    df:DataFrame\n",
        "  \"\"\"\n",
        "\n",
        "  a = f[\"Type\"]\n",
        "  b = f['Price (USD)']\n",
        "  return b[a== \"Vegetable\"].min()"
      ],
      "metadata": {
        "id": "EBMmCRvaKbBf"
      },
      "execution_count": 87,
      "outputs": []
    },
    {
      "cell_type": "code",
      "source": [
        "minimum_of_veg(f)"
      ],
      "metadata": {
        "colab": {
          "base_uri": "https://localhost:8080/"
        },
        "id": "_X0ioqJHKfBc",
        "outputId": "772a135b-e793-48ed-845e-13243e113c98"
      },
      "execution_count": 88,
      "outputs": [
        {
          "output_type": "execute_result",
          "data": {
            "text/plain": [
              "0.1"
            ]
          },
          "metadata": {},
          "execution_count": 88
        }
      ]
    },
    {
      "cell_type": "code",
      "source": [
        "def highest_quantity(f):\n",
        "  \"\"\"\n",
        "  Which item has the highest quantity in stock\n",
        "\n",
        "  Args:\n",
        "    df:DataFrame\n",
        "  \"\"\"\n",
        "  a=f['Quantity']\n",
        "  return pd.Series.max(a)\n"
      ],
      "metadata": {
        "id": "OvTANe5M4dEm"
      },
      "execution_count": 91,
      "outputs": []
    },
    {
      "cell_type": "code",
      "source": [
        "highest_quantity(f)"
      ],
      "metadata": {
        "colab": {
          "base_uri": "https://localhost:8080/"
        },
        "id": "bD69HYA9DwPF",
        "outputId": "c0ffcd5f-94df-4f6f-e299-e408e6031365"
      },
      "execution_count": 92,
      "outputs": [
        {
          "output_type": "execute_result",
          "data": {
            "text/plain": [
              "50"
            ]
          },
          "metadata": {},
          "execution_count": 92
        }
      ]
    },
    {
      "cell_type": "code",
      "source": [
        "def highest_quantity_fruits(f):\n",
        "  \"\"\"\n",
        "  How many the highest quantity in fruit type\n",
        "\n",
        "  Args:\n",
        "    df:DataFrame\n",
        "  \"\"\"\n",
        "  a=f['Type']\n",
        "  c=f['Quantity']\n",
        "  return c[a=='Fruit'].max()\n"
      ],
      "metadata": {
        "id": "hE-uG_vlv8JO"
      },
      "execution_count": 96,
      "outputs": []
    },
    {
      "cell_type": "code",
      "source": [
        "highest_quantity_fruits(f)"
      ],
      "metadata": {
        "colab": {
          "base_uri": "https://localhost:8080/"
        },
        "id": "6VlKECcZwhwW",
        "outputId": "9671c809-5461-45ec-bf4a-60ed70403ffa"
      },
      "execution_count": 97,
      "outputs": [
        {
          "output_type": "execute_result",
          "data": {
            "text/plain": [
              "20"
            ]
          },
          "metadata": {},
          "execution_count": 97
        }
      ]
    },
    {
      "cell_type": "code",
      "source": [
        "def lowest_quantity(df):\n",
        "  \"\"\"\n",
        "  Which item has the lowest quantity in stock\n",
        "  \n",
        "  Args:\n",
        "    df:DataFrame\n",
        "  \"\"\"\n",
        "\n",
        "  return"
      ],
      "metadata": {
        "id": "ekBqva5R5Prx"
      },
      "execution_count": 24,
      "outputs": []
    },
    {
      "cell_type": "code",
      "source": [],
      "metadata": {
        "id": "8TRF5pw0GCCi"
      },
      "execution_count": 24,
      "outputs": []
    },
    {
      "cell_type": "code",
      "source": [
        "def get_types_of_gracery(f):\n",
        "  \"\"\"\n",
        "  Find out how many types of food there are.\n",
        "\n",
        "  Args:\n",
        "    df:DataFrame\n",
        "  Returns: type of gracery\n",
        "  \"\"\"\n",
        "  a=f['Type']\n",
        "  \n",
        "  return pd.Series.unique(a)"
      ],
      "metadata": {
        "id": "-M7K0m0t0kt7"
      },
      "execution_count": 99,
      "outputs": []
    },
    {
      "cell_type": "code",
      "source": [
        "get_types_of_gracery(f)"
      ],
      "metadata": {
        "colab": {
          "base_uri": "https://localhost:8080/"
        },
        "id": "29OnjK7j13Pc",
        "outputId": "fa5585b0-3e01-427c-baa3-12e7adcf5eb7"
      },
      "execution_count": 100,
      "outputs": [
        {
          "output_type": "execute_result",
          "data": {
            "text/plain": [
              "array(['Fruit', 'Vegetable', 'Dairy', 'Oil', nan], dtype=object)"
            ]
          },
          "metadata": {},
          "execution_count": 100
        }
      ]
    },
    {
      "cell_type": "code",
      "source": [],
      "metadata": {
        "id": "P2YOd6engCys"
      },
      "execution_count": null,
      "outputs": []
    }
  ]
}